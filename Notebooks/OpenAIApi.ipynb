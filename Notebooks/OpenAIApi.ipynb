{
 "cells": [
  {
   "cell_type": "code",
   "execution_count": null,
   "metadata": {},
   "outputs": [],
   "source": [
    "from dotenv import load_dotenv\n",
    "from openai import OpenAI\n",
    "import os"
   ]
  },
  {
   "cell_type": "code",
   "execution_count": null,
   "metadata": {},
   "outputs": [],
   "source": [
    "OPEN_AI_KEY = os.getenv(\"OPENAI_API_KEY\")"
   ]
  },
  {
   "cell_type": "code",
   "execution_count": null,
   "metadata": {},
   "outputs": [],
   "source": [
    "example_prompt = \"\"\"\n",
    "      At 2025-02-08 20:21:05, \n",
    "      I did a Sprints training session.\n",
    "      Here are the stats my Garmin Watch recopilate:\n",
    "      1. Total distance: 2430.0 meters\n",
    "      1. Total duration: 9.4554 minutes.\n",
    "      3. Active duration: 9.1351 minutes.\n",
    "      4. Gained elevation: 57.0 meters.\n",
    "      5. Loss elevation: 56.0 meters.\n",
    "      6. Average speed: 15.42 kph.\n",
    "      7. Max speed: 23.58 kph.\n",
    "      8. Total calories: 105.0.\n",
    "      9. Resting calories: 15.0.\n",
    "      10. Average HR: 122.0 bpm.\n",
    "      11. Max HR: 147.0 bpm.\n",
    "      12. Average run cadence: 100.41 spm.\n",
    "      13. Max run cadence: 243.0 spm.\n",
    "      14. Total steps: 1016.\n",
    "      15. Average power: 164.0 W.\n",
    "      16. Max power: 751.0 W.\n",
    "      17. Aerobic effect: 1.2.\n",
    "      18. Anaerobic effect: 2.0.\n",
    "      19. Min elevation: 6.6 meters.\n",
    "      20. Max elevation: 15.2 meters.\n",
    "      21. Watter LossSweat: 124.0 ml.\n",
    "      22. Training effect label: SPEED.\n",
    "      23. Activity training load: 40.71.\n",
    "      24. Moderate Intensity minutes: 4 min.\n",
    "      25. Vigorous intensity minutes: 3 min.\n",
    "\"\"\""
   ]
  },
  {
   "cell_type": "code",
   "execution_count": null,
   "metadata": {},
   "outputs": [],
   "source": [
    "client = OpenAI(\n",
    "    api_key=OPEN_AI_KEY,\n",
    ")"
   ]
  },
  {
   "cell_type": "code",
   "execution_count": null,
   "metadata": {},
   "outputs": [],
   "source": [
    "def get_chatgpt_response_stream(prompt, model=\"gpt-3.5-turbo\"):\n",
    "    try:\n",
    "        stream = client.chat.completions.create(\n",
    "            model=model,\n",
    "            messages=[\n",
    "                {\"role\": \"system\", \"content\": \"You are an expert assistant providing valuable insights and coaching. My goal is fat loss, improving endurance, explosive movements, and strength for competitive jiujitsu tournaments.\"},\n",
    "                {\"role\": \"user\", \"content\": prompt},\n",
    "            ],\n",
    "            stream=True, \n",
    "        )\n",
    "\n",
    "        print(\"ChatGPT Response:\")\n",
    "        for chunk in stream:\n",
    "            if hasattr(chunk.choices[0].delta, \"content\"):\n",
    "                print(chunk.choices[0].delta.content, end=\"\")\n",
    "\n",
    "    except Exception as e:\n",
    "        print(f\"Error: {e}\")\n",
    "\n",
    "get_chatgpt_response_stream(example_prompt)\n",
    "\n"
   ]
  },
  {
   "cell_type": "code",
   "execution_count": null,
   "metadata": {},
   "outputs": [],
   "source": []
  }
 ],
 "metadata": {
  "kernelspec": {
   "display_name": "gfit_env",
   "language": "python",
   "name": "python3"
  },
  "language_info": {
   "codemirror_mode": {
    "name": "ipython",
    "version": 3
   },
   "file_extension": ".py",
   "mimetype": "text/x-python",
   "name": "python",
   "nbconvert_exporter": "python",
   "pygments_lexer": "ipython3",
   "version": "3.12.6"
  }
 },
 "nbformat": 4,
 "nbformat_minor": 2
}
