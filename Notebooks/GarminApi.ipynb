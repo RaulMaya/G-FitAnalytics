{
 "cells": [
  {
   "cell_type": "code",
   "execution_count": null,
   "metadata": {},
   "outputs": [],
   "source": [
    "from garminconnect import Garmin\n",
    "from garminconnect import (\n",
    "    GarminConnectConnectionError,\n",
    "    GarminConnectTooManyRequestsError,\n",
    "    GarminConnectAuthenticationError,\n",
    ")\n",
    "\n",
    "from datetime import datetime\n",
    "from dotenv import load_dotenv\n",
    "import os\n"
   ]
  },
  {
   "cell_type": "code",
   "execution_count": null,
   "metadata": {},
   "outputs": [],
   "source": [
    "USERNAME = os.getenv(\"GARMIN_USERNAME\")\n",
    "PASSWORD = os.getenv(\"GARMIN_PASSWORD\")"
   ]
  },
  {
   "cell_type": "code",
   "execution_count": null,
   "metadata": {},
   "outputs": [],
   "source": [
    "print(USERNAME)"
   ]
  },
  {
   "cell_type": "code",
   "execution_count": null,
   "metadata": {},
   "outputs": [],
   "source": [
    "try:\n",
    "    # Initialize Garmin client and login\n",
    "    client = Garmin(USERNAME, PASSWORD)\n",
    "    client.login()\n",
    "    print(\"Logged in successfully!\")\n",
    "\n",
    "except GarminConnectConnectionError as err:\n",
    "    print(\"Connection error:\", err)\n",
    "except GarminConnectAuthenticationError as err:\n",
    "    print(\"Authentication error:\", err)\n",
    "except GarminConnectTooManyRequestsError as err:\n",
    "    print(\"Too many requests error:\", err)\n",
    "except Exception as err:\n",
    "    print(\"An unexpected error occurred:\", err)\n"
   ]
  },
  {
   "cell_type": "code",
   "execution_count": null,
   "metadata": {},
   "outputs": [],
   "source": [
    "date = datetime.now().strftime(\"%Y-%m-%d\") \n",
    "training_status = client.get_training_status(date)\n",
    "print(\"Training Status:\", training_status)\n"
   ]
  },
  {
   "cell_type": "code",
   "execution_count": null,
   "metadata": {},
   "outputs": [],
   "source": [
    "training_status"
   ]
  },
  {
   "cell_type": "code",
   "execution_count": null,
   "metadata": {},
   "outputs": [],
   "source": [
    "date = datetime.now().strftime(\"%Y-%m-%d\") \n",
    "heart_rate = client.get_heart_rates(date)\n",
    "print(\"Heart Rate Data:\", heart_rate)"
   ]
  },
  {
   "cell_type": "code",
   "execution_count": null,
   "metadata": {},
   "outputs": [],
   "source": [
    "activities = client.get_activities(0, 4) "
   ]
  },
  {
   "cell_type": "code",
   "execution_count": null,
   "metadata": {},
   "outputs": [],
   "source": [
    "len(activities[0]['splitSummaries'])"
   ]
  },
  {
   "cell_type": "code",
   "execution_count": null,
   "metadata": {},
   "outputs": [],
   "source": [
    "# Sprints Comment\n",
    "if activities[2]['activityName'] == \"Tampico Running\":\n",
    "    act_name = 'Running/Jogging'\n",
    "else: \n",
    "    act_name = activities[2]['activityName']\n",
    "print(f\"\"\"\n",
    "      At {activities[2]['startTimeLocal']}, \n",
    "      I did a {act_name} training session.\n",
    "      Here are the stats my Garmin Watch recopilate:\n",
    "      1. Total distance: {activities[2]['distance']} meters\n",
    "      1. Total duration: {round(activities[2]['duration']/60, 4)} minutes.\n",
    "      3. Active duration: {round(activities[2]['movingDuration']/60, 4)} minutes.\n",
    "      4. Gained elevation: {activities[2]['elevationGain']} meters.\n",
    "      5. Loss elevation: {activities[2]['elevationLoss']} meters.\n",
    "      6. Average speed: {round(activities[2]['averageSpeed'] * 3.6, 2)} kph.\n",
    "      7. Max speed: {round(activities[2]['maxSpeed'] * 3.6, 2)} kph.\n",
    "      8. Total calories: {activities[2]['calories']}.\n",
    "      9. Resting calories: {activities[2]['bmrCalories']}.\n",
    "      10. Average HR: {activities[2]['averageHR']} bpm.\n",
    "      11. Max HR: {activities[2]['maxHR']} bpm.\n",
    "      12. Average run cadence: {round(activities[2]['averageRunningCadenceInStepsPerMinute'], 2)} spm.\n",
    "      13. Max run cadence: {round(activities[2]['maxRunningCadenceInStepsPerMinute'], 2)} spm.\n",
    "      14. Total steps: {activities[2]['steps']}.\n",
    "      15. Average power: {activities[2]['avgPower']} W.\n",
    "      16. Max power: {activities[2]['maxPower']} W.\n",
    "      17. Aerobic effect: {round(activities[2]['aerobicTrainingEffect'], 2)}.\n",
    "      18. Anaerobic effect: {round(activities[2]['anaerobicTrainingEffect'], 2)}.\n",
    "      19. Min elevation: {round(activities[2]['minElevation'], 2)} meters.\n",
    "      20. Max elevation: {round(activities[2]['maxElevation'], 2 )} meters.\n",
    "      21. Watter LossSweat: {activities[2]['waterEstimated']} ml.\n",
    "      22. Training effect label: {activities[2]['trainingEffectLabel']}.\n",
    "      23. Activity training load: {round(activities[2]['activityTrainingLoad'], 2)}.\n",
    "      24. Moderate Intensity minutes: {activities[2]['moderateIntensityMinutes']} min.\n",
    "      25. Vigorous intensity minutes: {activities[2]['vigorousIntensityMinutes']} min.\"\"\")"
   ]
  },
  {
   "cell_type": "code",
   "execution_count": null,
   "metadata": {},
   "outputs": [],
   "source": [
    "# Sprints Comment\n",
    "if activities[0]['activityName'] == \"Tampico Track Running\":\n",
    "    act_name = 'Sprints'\n",
    "else: \n",
    "    act_name = activities[0]['activityName']\n",
    "print(f\"\"\"\n",
    "      At {activities[0]['startTimeLocal']}, \n",
    "      I did a {act_name} training session.\n",
    "      Here are the stats my Garmin Watch recopilate:\n",
    "      1. Total distance: {activities[0]['distance']} meters\n",
    "      1. Total duration: {round(activities[0]['duration']/60, 4)} minutes.\n",
    "      3. Active duration: {round(activities[0]['movingDuration']/60, 4)} minutes.\n",
    "      4. Gained elevation: {activities[0]['elevationGain']} meters.\n",
    "      5. Loss elevation: {activities[0]['elevationLoss']} meters.\n",
    "      6. Average speed: {round(activities[0]['averageSpeed'] * 3.6, 2)} kph.\n",
    "      7. Max speed: {round(activities[0]['maxSpeed'] * 3.6, 2)} kph.\n",
    "      8. Total calories: {activities[0]['calories']}.\n",
    "      9. Resting calories: {activities[0]['bmrCalories']}.\n",
    "      10. Average HR: {activities[0]['averageHR']} bpm.\n",
    "      11. Max HR: {activities[0]['maxHR']} bpm.\n",
    "      12. Average run cadence: {round(activities[0]['averageRunningCadenceInStepsPerMinute'], 2)} spm.\n",
    "      13. Max run cadence: {round(activities[0]['maxRunningCadenceInStepsPerMinute'], 2)} spm.\n",
    "      14. Total steps: {activities[0]['steps']}.\n",
    "      15. Average power: {activities[0]['avgPower']} W.\n",
    "      16. Max power: {activities[0]['maxPower']} W.\n",
    "      17. Aerobic effect: {round(activities[0]['aerobicTrainingEffect'], 2)}.\n",
    "      18. Anaerobic effect: {round(activities[0]['anaerobicTrainingEffect'], 2)}.\n",
    "      19. Min elevation: {round(activities[0]['minElevation'], 2)} meters.\n",
    "      20. Max elevation: {round(activities[0]['maxElevation'], 2 )} meters.\n",
    "      21. Watter LossSweat: {activities[0]['waterEstimated']} ml.\n",
    "      22. Training effect label: {activities[0]['trainingEffectLabel']}.\n",
    "      23. Activity training load: {round(activities[0]['activityTrainingLoad'], 2)}.\n",
    "      24. Moderate Intensity minutes: {activities[0]['moderateIntensityMinutes']} min.\n",
    "      25. Vigorous intensity minutes: {activities[0]['vigorousIntensityMinutes']} min.\"\"\")"
   ]
  },
  {
   "cell_type": "code",
   "execution_count": null,
   "metadata": {},
   "outputs": [],
   "source": [
    "if activities[1]['activityName'] == \"Tampico Walking\":\n",
    "    act_name = 'Walking'\n",
    "else: \n",
    "    act_name = activities[1]['activityName']\n",
    "print(f\"\"\"\n",
    "      At {activities[1]['startTimeLocal']}, \n",
    "      I did a {act_name} training session.\n",
    "      Here are the stats my Garmin Watch recopilate:\n",
    "      1. Total distance: {activities[1]['distance']} meters\n",
    "      1. Total duration: {round(activities[1]['duration']/60, 4)} minutes.\n",
    "      3. Active duration: {round(activities[1]['movingDuration']/60, 4)} minutes.\n",
    "      4. Gained elevation: {activities[1]['elevationGain']} meters.\n",
    "      5. Loss elevation: {activities[1]['elevationLoss']} meters.\n",
    "      6. Average speed: {round(activities[1]['averageSpeed'] * 3.6, 2)} kph.\n",
    "      7. Max speed: {round(activities[1]['maxSpeed'] * 3.6, 2)} kph.\n",
    "      8. Total calories: {activities[1]['calories']}.\n",
    "      9. Resting calories: {activities[1]['bmrCalories']}.\n",
    "      10. Average HR: {activities[1]['averageHR']} bpm.\n",
    "      11. Max HR: {activities[1]['maxHR']} bpm.\n",
    "      12. Average run cadence: {round(activities[1]['averageRunningCadenceInStepsPerMinute'], 2)} spm.\n",
    "      13. Max run cadence: {round(activities[1]['maxRunningCadenceInStepsPerMinute'], 2)} spm.\n",
    "      14. Total steps: {activities[1]['steps']}.\n",
    "      15. Aerobic effect: {round(activities[1]['aerobicTrainingEffect'], 2)}.\n",
    "      16. Anaerobic effect: {round(activities[1]['anaerobicTrainingEffect'], 2)}.\n",
    "      17. Min elevation: {round(activities[1]['minElevation'], 2)} meters.\n",
    "      18. Max elevation: {round(activities[1]['maxElevation'], 2 )} meters.\n",
    "      19. Watter LossSweat: {activities[1]['waterEstimated']} ml.\n",
    "      20. Training effect label: {activities[1]['trainingEffectLabel']}.\n",
    "      21. Activity training load: {round(activities[1]['activityTrainingLoad'], 2)}.\n",
    "      22. Moderate Intensity minutes: {activities[1]['moderateIntensityMinutes']} min.\n",
    "      23. Vigorous intensity minutes: {activities[1]['vigorousIntensityMinutes']} min.\"\"\")"
   ]
  },
  {
   "cell_type": "code",
   "execution_count": null,
   "metadata": {},
   "outputs": [],
   "source": [
    "activities[2]"
   ]
  },
  {
   "cell_type": "code",
   "execution_count": null,
   "metadata": {},
   "outputs": [],
   "source": [
    "activities = client.get_activities(0, 1)  \n",
    "for activity in activities:\n",
    "    print(activity)"
   ]
  },
  {
   "cell_type": "code",
   "execution_count": null,
   "metadata": {},
   "outputs": [],
   "source": [
    "# HIIT Comment\n",
    "print(f\"\"\"\n",
    "      At {activities[3]['startTimeLocal']}, \n",
    "      I did a {activities[3]['activityName']} training session.\n",
    "      Here are the stats my Garmin Watch recopilate:\n",
    "      1. Total duration: {round(activities[3]['duration']/60, 4)} minutes.\n",
    "      2. Active duration: {round(activities[3]['movingDuration']/60, 4)} minutes.\n",
    "      3. Total calories: {activities[3]['calories']}.\n",
    "      4. Resting calories: {activities[3]['bmrCalories']}.\n",
    "      5. Average HR: {activities[3]['averageHR']}.\n",
    "      6. Max HR: {activities[3]['maxHR']}.\n",
    "      7. Total steps: {activities[3]['steps']}.\n",
    "      8. Aerobic effect: {round(activities[3]['aerobicTrainingEffect'], 2)}.\n",
    "      9. Anaerobic effect: {round(activities[3]['anaerobicTrainingEffect'], 2)}.\n",
    "      10. Watter LossSweat: {activities[3]['waterEstimated']} ml.\n",
    "      11. Total sets: {activities[3]['totalSets']}.\n",
    "      12. Total reps: {activities[3]['totalReps']}.\n",
    "      13. Training effect label: {activities[3]['trainingEffectLabel']}.\n",
    "      14. Activity training load: {round(activities[3]['activityTrainingLoad'], 2)}.\n",
    "      15. Moderate Intensity minutes: {activities[3]['moderateIntensityMinutes']} min.\n",
    "      16. Vigorous intensity minutes: {activities[3]['vigorousIntensityMinutes']} min.\"\"\")"
   ]
  },
  {
   "cell_type": "code",
   "execution_count": null,
   "metadata": {},
   "outputs": [],
   "source": [
    "activities[0]"
   ]
  },
  {
   "cell_type": "code",
   "execution_count": null,
   "metadata": {},
   "outputs": [],
   "source": [
    "client.logout()\n",
    "print(\"Logged out successfully!\")"
   ]
  }
 ],
 "metadata": {
  "kernelspec": {
   "display_name": "gfit_env",
   "language": "python",
   "name": "python3"
  },
  "language_info": {
   "codemirror_mode": {
    "name": "ipython",
    "version": 3
   },
   "file_extension": ".py",
   "mimetype": "text/x-python",
   "name": "python",
   "nbconvert_exporter": "python",
   "pygments_lexer": "ipython3",
   "version": "3.12.6"
  }
 },
 "nbformat": 4,
 "nbformat_minor": 2
}
