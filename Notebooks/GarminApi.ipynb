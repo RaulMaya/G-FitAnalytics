{
 "cells": [
  {
   "cell_type": "code",
   "execution_count": 1,
   "metadata": {},
   "outputs": [],
   "source": [
    "from garminconnect import Garmin\n",
    "from garminconnect import (\n",
    "    GarminConnectConnectionError,\n",
    "    GarminConnectTooManyRequestsError,\n",
    "    GarminConnectAuthenticationError,\n",
    ")\n",
    "\n",
    "from datetime import datetime\n",
    "from dotenv import load_dotenv\n",
    "import os\n"
   ]
  },
  {
   "cell_type": "code",
   "execution_count": 2,
   "metadata": {},
   "outputs": [],
   "source": [
    "USERNAME = os.getenv(\"GARMIN_USERNAME\")\n",
    "PASSWORD = os.getenv(\"GARMIN_PASSWORD\")"
   ]
  },
  {
   "cell_type": "code",
   "execution_count": 3,
   "metadata": {},
   "outputs": [
    {
     "name": "stdout",
     "output_type": "stream",
     "text": [
      "raulmayas20@gmail.com\n"
     ]
    }
   ],
   "source": [
    "print(USERNAME)"
   ]
  },
  {
   "cell_type": "code",
   "execution_count": 4,
   "metadata": {},
   "outputs": [
    {
     "name": "stdout",
     "output_type": "stream",
     "text": [
      "Logged in successfully!\n"
     ]
    }
   ],
   "source": [
    "try:\n",
    "    # Initialize Garmin client and login\n",
    "    client = Garmin(USERNAME, PASSWORD)\n",
    "    client.login()\n",
    "    print(\"Logged in successfully!\")\n",
    "\n",
    "except GarminConnectConnectionError as err:\n",
    "    print(\"Connection error:\", err)\n",
    "except GarminConnectAuthenticationError as err:\n",
    "    print(\"Authentication error:\", err)\n",
    "except GarminConnectTooManyRequestsError as err:\n",
    "    print(\"Too many requests error:\", err)\n",
    "except Exception as err:\n",
    "    print(\"An unexpected error occurred:\", err)\n"
   ]
  },
  {
   "cell_type": "code",
   "execution_count": 5,
   "metadata": {},
   "outputs": [
    {
     "name": "stdout",
     "output_type": "stream",
     "text": [
      "Heart Rate Data: {'userProfilePK': 118315956, 'calendarDate': '2025-02-08', 'startTimestampGMT': '2025-02-08T06:00:00.0', 'endTimestampGMT': '2025-02-08T23:25:00.0', 'startTimestampLocal': '2025-02-08T00:00:00.0', 'endTimestampLocal': '2025-02-09T00:00:00.0', 'maxHeartRate': 135, 'minHeartRate': 44, 'restingHeartRate': 45, 'lastSevenDaysAvgRestingHeartRate': 49, 'heartRateValueDescriptors': [{'key': 'timestamp', 'index': 0}, {'key': 'heartrate', 'index': 1}], 'heartRateValues': [[1738994400000, 58], [1738994520000, 61], [1738994640000, 58], [1738994760000, 60], [1738994880000, 60], [1738995000000, 59], [1738995120000, 58], [1738995240000, 61], [1738995360000, 59], [1738995480000, 60], [1738995600000, 63], [1738995720000, 64], [1738995840000, 62], [1738995960000, 64], [1738996080000, 60], [1738996200000, 58], [1738996320000, 57], [1738996440000, 57], [1738996560000, 57], [1738996680000, 53], [1738996800000, 55], [1738996920000, 54], [1738997040000, 54], [1738997160000, 54], [1738997280000, 59], [1738997400000, 54], [1738997520000, 56], [1738997640000, 55], [1738997760000, 56], [1738997880000, 56], [1738998000000, 57], [1738998120000, 54], [1738998240000, 54], [1738998360000, 53], [1738998480000, 52], [1738998600000, 53], [1738998720000, 52], [1738998840000, 53], [1738998960000, 55], [1738999080000, 57], [1738999200000, 56], [1738999320000, 58], [1738999440000, 58], [1738999560000, 58], [1738999680000, 58], [1738999800000, 56], [1738999920000, 56], [1739000040000, 53], [1739000160000, 52], [1739000280000, 52], [1739000400000, 53], [1739000520000, 52], [1739000640000, 52], [1739000760000, 53], [1739000880000, 52], [1739001000000, 52], [1739001120000, 57], [1739001240000, 50], [1739001360000, 49], [1739001480000, 55], [1739001600000, 51], [1739001720000, 50], [1739001840000, 50], [1739001960000, 50], [1739002080000, 49], [1739002200000, 50], [1739002320000, 51], [1739002440000, 53], [1739002560000, 73], [1739002680000, 68], [1739002800000, 50], [1739002920000, 49], [1739003040000, 50], [1739003160000, 49], [1739003280000, 49], [1739003400000, 49], [1739003520000, 49], [1739003640000, 49], [1739003760000, 48], [1739003880000, 49], [1739004000000, 48], [1739004120000, 48], [1739004240000, 47], [1739004360000, 48], [1739004480000, 51], [1739004600000, 54], [1739004720000, 53], [1739004840000, 58], [1739004960000, 52], [1739005080000, 53], [1739005200000, 53], [1739005320000, 52], [1739005440000, 52], [1739005560000, 47], [1739005680000, 54], [1739005800000, 49], [1739005920000, 47], [1739006040000, 47], [1739006160000, 49], [1739006280000, 47], [1739006400000, 48], [1739006520000, 48], [1739006640000, 48], [1739006760000, 48], [1739006880000, 48], [1739007000000, 48], [1739007120000, 48], [1739007240000, 48], [1739007360000, 57], [1739007480000, 51], [1739007600000, 48], [1739007720000, 50], [1739007840000, 50], [1739007960000, 50], [1739008080000, 49], [1739008200000, 52], [1739008320000, 49], [1739008440000, 49], [1739008560000, 49], [1739008680000, 49], [1739008800000, 47], [1739008920000, 48], [1739009040000, 47], [1739009160000, 47], [1739009280000, 48], [1739009400000, 47], [1739009520000, 51], [1739009640000, 47], [1739009760000, 49], [1739009880000, 49], [1739010000000, 54], [1739010120000, 47], [1739010240000, 48], [1739010360000, 50], [1739010480000, 50], [1739010600000, 51], [1739010720000, 51], [1739010840000, 50], [1739010960000, 51], [1739011080000, 50], [1739011200000, 56], [1739011320000, 53], [1739011440000, 50], [1739011560000, 49], [1739011680000, 60], [1739011800000, 53], [1739011920000, 51], [1739012040000, 50], [1739012160000, 50], [1739012280000, 50], [1739012400000, 49], [1739012520000, 49], [1739012640000, 50], [1739012760000, 49], [1739012880000, 52], [1739013000000, 53], [1739013120000, 45], [1739013240000, 45], [1739013360000, 45], [1739013480000, 45], [1739013600000, 45], [1739013720000, 46], [1739013840000, 45], [1739013960000, 46], [1739014080000, 46], [1739014200000, 46], [1739014320000, 47], [1739014440000, 46], [1739014560000, 47], [1739014680000, 46], [1739014800000, 47], [1739014920000, 47], [1739015040000, 47], [1739015160000, 47], [1739015280000, 47], [1739015400000, 49], [1739015520000, 47], [1739015640000, 57], [1739015760000, 50], [1739015880000, 59], [1739016000000, 46], [1739016120000, 46], [1739016240000, 46], [1739016360000, 46], [1739016480000, 46], [1739016600000, 46], [1739016720000, 48], [1739016840000, 49], [1739016960000, 50], [1739017080000, 49], [1739017200000, 49], [1739017320000, 48], [1739017440000, 48], [1739017560000, 47], [1739017680000, 51], [1739017800000, 44], [1739017920000, 45], [1739018040000, 45], [1739018160000, 45], [1739018280000, 45], [1739018400000, 45], [1739018520000, 45], [1739018640000, 45], [1739018760000, 45], [1739018880000, 45], [1739019000000, 47], [1739019120000, 46], [1739019240000, 47], [1739019360000, 47], [1739019480000, 48], [1739019600000, 48], [1739019720000, 47], [1739019840000, 48], [1739019960000, 47], [1739020080000, 50], [1739020200000, 55], [1739020320000, 52], [1739020440000, 50], [1739020560000, 54], [1739020680000, 56], [1739020800000, 52], [1739020920000, 52], [1739021040000, 55], [1739021160000, 48], [1739021280000, 48], [1739021400000, 48], [1739021520000, 49], [1739021640000, 48], [1739021760000, 50], [1739021880000, 53], [1739022000000, 46], [1739022120000, 44], [1739022240000, 46], [1739022360000, 48], [1739022480000, 44], [1739022600000, 46], [1739022720000, 46], [1739022840000, 46], [1739022960000, 46], [1739023080000, 46], [1739023200000, 48], [1739023320000, 51], [1739023440000, 45], [1739023560000, 52], [1739023680000, 46], [1739023800000, 48], [1739023920000, 48], [1739024040000, 48], [1739024160000, 54], [1739024280000, 46], [1739024400000, 45], [1739024520000, 52], [1739024640000, 47], [1739024760000, 47], [1739024880000, 48], [1739025000000, 49], [1739025120000, 47], [1739025240000, 48], [1739025360000, 53], [1739025480000, 53], [1739025600000, 52], [1739025720000, 51], [1739025840000, 50], [1739025960000, 53], [1739026080000, 48], [1739026200000, 48], [1739026320000, 52], [1739026440000, 49], [1739026560000, 47], [1739026680000, 49], [1739026800000, 50], [1739026920000, 49], [1739027040000, 50], [1739027160000, 56], [1739027280000, 52], [1739027400000, 51], [1739027520000, 53], [1739027640000, 54], [1739027760000, 56], [1739027880000, 54], [1739028000000, 57], [1739028120000, 73], [1739028240000, 67], [1739028360000, 72], [1739028480000, 69], [1739028600000, 67], [1739028720000, 60], [1739028840000, 62], [1739028960000, 49], [1739029080000, 52], [1739029200000, 55], [1739029320000, 78], [1739029440000, 72], [1739029560000, None], [1739030160000, 78], [1739030280000, 89], [1739030400000, 76], [1739030520000, 63], [1739030640000, 61], [1739030760000, 65], [1739030880000, 77], [1739031000000, 81], [1739031120000, 77], [1739031240000, 65], [1739031360000, 76], [1739031480000, 70], [1739031600000, 96], [1739031720000, 110], [1739031840000, 113], [1739031960000, 97], [1739032080000, 95], [1739032200000, 117], [1739032320000, 123], [1739032440000, 110], [1739032560000, 118], [1739032680000, 135], [1739032800000, 120], [1739032920000, 101], [1739033040000, 113], [1739033160000, 118], [1739033280000, 117], [1739033400000, 116], [1739033520000, 101], [1739033640000, 135], [1739033760000, 126], [1739033880000, 103], [1739034000000, 99], [1739034120000, 116], [1739034240000, 111], [1739034360000, 96], [1739034480000, 85], [1739034600000, 90], [1739034720000, 83], [1739034840000, 86], [1739034960000, 77], [1739035080000, 79], [1739035200000, 77], [1739035320000, 76], [1739035440000, 82], [1739035560000, 73], [1739035680000, 74], [1739035800000, 72], [1739035920000, 73], [1739036040000, 70], [1739036160000, 70], [1739036280000, 79], [1739036400000, 85], [1739036520000, 79], [1739036640000, 67], [1739036760000, 70], [1739036880000, 72], [1739037000000, 72], [1739037120000, 87], [1739037240000, 69], [1739037360000, 64], [1739037480000, 70], [1739037600000, 72], [1739037720000, 70], [1739037840000, 71], [1739037960000, 65], [1739038080000, 67], [1739038200000, 63], [1739038320000, 68], [1739038440000, 68], [1739038560000, 66], [1739038680000, 63], [1739038800000, 66], [1739038920000, 68], [1739039040000, 67], [1739039160000, 64], [1739039280000, 68], [1739039400000, 69], [1739039520000, 67], [1739039640000, 65], [1739039760000, 66], [1739039880000, 63], [1739040000000, 72], [1739040120000, 71], [1739040240000, 73], [1739040360000, 65], [1739040480000, 64], [1739040600000, 75], [1739040720000, 81], [1739040840000, 68], [1739040960000, 66], [1739041080000, 65], [1739041200000, 65], [1739041320000, 65], [1739041440000, 66], [1739041560000, 76], [1739041680000, 66], [1739041800000, 64], [1739041920000, 60], [1739042040000, 56], [1739042160000, 60], [1739042280000, 64], [1739042400000, 61], [1739042520000, 56], [1739042640000, 53], [1739042760000, 55], [1739042880000, 54], [1739043000000, 57], [1739043120000, 56], [1739043240000, 56], [1739043360000, 55], [1739043480000, 57], [1739043600000, 60], [1739043720000, 53], [1739043840000, 52], [1739043960000, 55], [1739044080000, 55], [1739044200000, 57], [1739044320000, 54], [1739044440000, 55], [1739044560000, 54], [1739044680000, 55], [1739044800000, 57], [1739044920000, 64], [1739045040000, 79], [1739045160000, 82], [1739045280000, None], [1739045880000, 72], [1739046000000, 61], [1739046120000, 54], [1739046240000, 55], [1739046360000, 56], [1739046480000, 57], [1739046600000, 58], [1739046720000, 58], [1739046840000, 61], [1739046960000, 70], [1739047080000, 54], [1739047200000, 53], [1739047320000, 48], [1739047440000, 52], [1739047560000, 54], [1739047680000, 49], [1739047800000, 52], [1739047920000, 51], [1739048040000, 49], [1739048160000, 51], [1739048280000, 52], [1739048400000, 57], [1739048520000, 55], [1739048640000, 52], [1739048760000, 52], [1739048880000, 54], [1739049000000, 52], [1739049120000, 51], [1739049240000, 55], [1739049360000, 53], [1739049480000, 53], [1739049600000, 59], [1739049720000, 57], [1739049840000, 64], [1739049960000, 54], [1739050080000, 54], [1739050200000, 52], [1739050320000, 56], [1739050440000, 55], [1739050560000, 53], [1739050680000, 57], [1739050800000, 56], [1739050920000, 54], [1739051040000, 53], [1739051160000, 53], [1739051280000, 54], [1739051400000, 52], [1739051520000, 52], [1739051640000, 51], [1739051760000, 51], [1739051880000, 52], [1739052000000, 51], [1739052120000, 51], [1739052240000, 62], [1739052360000, 79], [1739052480000, 59], [1739052600000, 56], [1739052720000, 57], [1739052840000, 60], [1739052960000, 66], [1739053080000, 64], [1739053200000, 67], [1739053320000, 67], [1739053440000, 66], [1739053560000, 63], [1739053680000, 61], [1739053800000, 55], [1739053920000, 55], [1739054040000, 54], [1739054160000, 56], [1739054280000, 55], [1739054400000, 56], [1739054520000, 54], [1739054640000, 57], [1739054760000, 58], [1739054880000, 52], [1739055000000, 54], [1739055120000, 55], [1739055240000, 57], [1739055360000, 54], [1739055480000, 60], [1739055600000, 53], [1739055720000, 56], [1739055840000, 59], [1739055960000, 60], [1739056080000, 60], [1739056200000, 61], [1739056320000, 75], [1739056440000, 58], [1739056560000, 58], [1739056680000, 57], [1739056800000, 56], [1739056920000, 63], [1739057040000, 63]]}\n"
     ]
    }
   ],
   "source": [
    "date = datetime.now().strftime(\"%Y-%m-%d\") \n",
    "heart_rate = client.get_heart_rates(date)\n",
    "print(\"Heart Rate Data:\", heart_rate)"
   ]
  },
  {
   "cell_type": "code",
   "execution_count": 6,
   "metadata": {},
   "outputs": [
    {
     "name": "stdout",
     "output_type": "stream",
     "text": [
      "{'activityId': 18224507217, 'activityName': 'HIIT', 'startTimeLocal': '2025-02-08 10:18:38', 'startTimeGMT': '2025-02-08 16:18:38', 'activityType': {'typeId': 180, 'typeKey': 'hiit', 'parentTypeId': 29, 'isHidden': False, 'trimmable': False, 'restricted': False}, 'eventType': {'typeId': 9, 'typeKey': 'uncategorized', 'sortOrder': 10}, 'distance': 0.0, 'duration': 2019.8800048828125, 'elapsedDuration': 2278.095947265625, 'movingDuration': 1326.29296875, 'averageSpeed': 0.0, 'hasPolyline': False, 'hasImages': False, 'ownerId': 118315956, 'ownerDisplayName': '902ef603-a05a-4f22-8259-a6aecb9342d2', 'ownerFullName': 'Raul Maya', 'ownerProfileImageUrlSmall': 'https://s3.amazonaws.com/garmin-connect-prod/profile_images/b82d597a-d33d-4297-b335-e184eedcdb96-prth.png', 'ownerProfileImageUrlMedium': 'https://s3.amazonaws.com/garmin-connect-prod/profile_images/b82d597a-d33d-4297-b335-e184eedcdb96-prfr.png', 'ownerProfileImageUrlLarge': 'https://s3.amazonaws.com/garmin-connect-prod/profile_images/b82d597a-d33d-4297-b335-e184eedcdb96-prof.png', 'calories': 312.0, 'bmrCalories': 52.0, 'averageHR': 117.0, 'maxHR': 152.0, 'steps': 338, 'userRoles': ['SCOPE_GOLF_API_READ', 'SCOPE_ATP_READ', 'SCOPE_DIVE_API_WRITE', 'SCOPE_COMMUNITY_COURSE_ADMIN_READ', 'SCOPE_DIVE_API_READ', 'SCOPE_DI_OAUTH_2_CLIENT_READ', 'SCOPE_CONNECT_WRITE', 'SCOPE_COMMUNITY_COURSE_WRITE', 'SCOPE_MESSAGE_GENERATION_READ', 'SCOPE_DI_OAUTH_2_CLIENT_REVOCATION_ADMIN', 'SCOPE_CONNECT_WEB_TEMPLATE_RENDER', 'SCOPE_OMT_SUBSCRIPTION_ADMIN_READ', 'SCOPE_CONNECT_NON_SOCIAL_SHARED_READ', 'SCOPE_CONNECT_READ', 'SCOPE_DI_OAUTH_2_TOKEN_ADMIN', 'ROLE_CONNECTUSER', 'ROLE_FITNESS_USER', 'ROLE_WELLNESS_USER', 'ROLE_OUTDOOR_USER'], 'privacy': {'typeId': 3, 'typeKey': 'subscribers'}, 'userPro': False, 'hasVideo': False, 'timeZoneId': 150, 'beginTimestamp': 1739031518000, 'sportTypeId': 62, 'aerobicTrainingEffect': 1.7000000476837158, 'anaerobicTrainingEffect': 1.7999999523162842, 'deviceId': 3455304286, 'summarizedExerciseSets': [{'category': 'SIT_UP', 'reps': 28, 'volume': 0, 'duration': 123956.00128173828, 'sets': 1}, {'category': 'UNKNOWN', 'reps': 42, 'volume': 0, 'duration': 660727.9946804047, 'sets': 10}, {'category': 'ROW', 'reps': 32, 'volume': 0, 'duration': 223306.99157714844, 'sets': 2}, {'category': 'SQUAT', 'reps': 21, 'volume': 0, 'duration': 58691.001892089844, 'sets': 1}, {'category': 'DEADLIFT', 'subCategory': 'BARBELL_DEADLIFT', 'reps': 46, 'volume': 0, 'duration': 259611.00006103516, 'sets': 3}], 'summarizedDiveInfo': {'summarizedDiveGases': []}, 'manufacturer': 'GARMIN', 'lapCount': 1, 'waterEstimated': 411.0, 'totalSets': 17, 'activeSets': 17, 'totalReps': 169, 'trainingEffectLabel': 'ANAEROBIC_CAPACITY', 'activityTrainingLoad': 43.51884460449219, 'minActivityLapDuration': 2019.8800048828125, 'aerobicTrainingEffectMessage': 'RECOVERY_5', 'anaerobicTrainingEffectMessage': 'MINOR_ANAEROBIC_BENEFIT_15', 'splitSummaries': [{'noOfSplits': 17, 'duration': 2019.8800048828125, 'splitType': 'WORKOUT_ROUND', 'numClimbSends': 0, 'maxDistance': 0, 'distance': 0.0, 'averageSpeed': 0.0, 'numFalls': 0}], 'hasSplits': False, 'moderateIntensityMinutes': 16, 'vigorousIntensityMinutes': 16, 'differenceBodyBattery': -7, 'hasHeatMap': False, 'hrTimeInZone_1': 717.041, 'hrTimeInZone_2': 938.428, 'hrTimeInZone_3': 275.073, 'hrTimeInZone_4': 0.0, 'hrTimeInZone_5': 0.0, 'purposeful': False, 'manualActivity': False, 'pr': False, 'autoCalcCalories': False, 'elevationCorrected': False, 'atpActivity': False, 'favorite': False, 'decoDive': False, 'parent': False}\n"
     ]
    }
   ],
   "source": [
    "activities = client.get_activities(0, 1)  # Fetch 10 recent activities\n",
    "for activity in activities:\n",
    "    print(activity)"
   ]
  },
  {
   "cell_type": "code",
   "execution_count": 18,
   "metadata": {},
   "outputs": [
    {
     "name": "stdout",
     "output_type": "stream",
     "text": [
      "\n",
      "      Today at 2025-02-08 10:18:38, \n",
      "      I did a HIIT training session.\n",
      "      Here are the stats my Garmin Watch recopilate:\n",
      "      1. Total duration: 33.6647 minutes.\n",
      "      2. Active duration: 22.1049 minutes.\n",
      "      3. Total calories: 312.0.\n",
      "      4. Resting calories: 52.0.\n",
      "      5. Average HR: 117.0.\n",
      "      6. Max HR: 152.0.\n",
      "      7. Total steps: 338.\n",
      "      8. Aerobic effect: 1.7.\n",
      "      9. Anaerobic effect: 1.8.\n",
      "      10. Watter LossSweat: 411.0 ml.\n",
      "      11. Total sets: 17.\n",
      "      12. Total reps: 169.\n",
      "      13. Training effect label: ANAEROBIC_CAPACITY.\n",
      "      14. Activity training load: 43.52.\n",
      "      15. Moderate Intensity minutes: 16 min.\n",
      "      16. Vigorous intensity minutes: 16 min.\n"
     ]
    }
   ],
   "source": [
    "print(f\"\"\"\n",
    "      Today at {activities[0]['startTimeLocal']}, \n",
    "      I did a {activities[0]['activityName']} training session.\n",
    "      Here are the stats my Garmin Watch recopilate:\n",
    "      1. Total duration: {round(activities[0]['duration']/60, 4)} minutes.\n",
    "      2. Active duration: {round(activities[0]['movingDuration']/60, 4)} minutes.\n",
    "      3. Total calories: {activities[0]['calories']}.\n",
    "      4. Resting calories: {activities[0]['bmrCalories']}.\n",
    "      5. Average HR: {activities[0]['averageHR']}.\n",
    "      6. Max HR: {activities[0]['maxHR']}.\n",
    "      7. Total steps: {activities[0]['steps']}.\n",
    "      8. Aerobic effect: {round(activities[0]['aerobicTrainingEffect'], 2)}.\n",
    "      9. Anaerobic effect: {round(activities[0]['anaerobicTrainingEffect'], 2)}.\n",
    "      10. Watter LossSweat: {activities[0]['waterEstimated']} ml.\n",
    "      11. Total sets: {activities[0]['totalSets']}.\n",
    "      12. Total reps: {activities[0]['totalReps']}.\n",
    "      13. Training effect label: {activities[0]['trainingEffectLabel']}.\n",
    "      14. Activity training load: {round(activities[0]['activityTrainingLoad'], 2)}.\n",
    "      15. Moderate Intensity minutes: {activities[0]['moderateIntensityMinutes']} min.\n",
    "      16. Vigorous intensity minutes: {activities[0]['vigorousIntensityMinutes']} min.\"\"\")"
   ]
  },
  {
   "cell_type": "code",
   "execution_count": 14,
   "metadata": {},
   "outputs": [
    {
     "data": {
      "text/plain": [
       "{'activityId': 18224507217,\n",
       " 'activityName': 'HIIT',\n",
       " 'startTimeLocal': '2025-02-08 10:18:38',\n",
       " 'startTimeGMT': '2025-02-08 16:18:38',\n",
       " 'activityType': {'typeId': 180,\n",
       "  'typeKey': 'hiit',\n",
       "  'parentTypeId': 29,\n",
       "  'isHidden': False,\n",
       "  'trimmable': False,\n",
       "  'restricted': False},\n",
       " 'eventType': {'typeId': 9, 'typeKey': 'uncategorized', 'sortOrder': 10},\n",
       " 'distance': 0.0,\n",
       " 'duration': 2019.8800048828125,\n",
       " 'elapsedDuration': 2278.095947265625,\n",
       " 'movingDuration': 1326.29296875,\n",
       " 'averageSpeed': 0.0,\n",
       " 'hasPolyline': False,\n",
       " 'hasImages': False,\n",
       " 'ownerId': 118315956,\n",
       " 'ownerDisplayName': '902ef603-a05a-4f22-8259-a6aecb9342d2',\n",
       " 'ownerFullName': 'Raul Maya',\n",
       " 'ownerProfileImageUrlSmall': 'https://s3.amazonaws.com/garmin-connect-prod/profile_images/b82d597a-d33d-4297-b335-e184eedcdb96-prth.png',\n",
       " 'ownerProfileImageUrlMedium': 'https://s3.amazonaws.com/garmin-connect-prod/profile_images/b82d597a-d33d-4297-b335-e184eedcdb96-prfr.png',\n",
       " 'ownerProfileImageUrlLarge': 'https://s3.amazonaws.com/garmin-connect-prod/profile_images/b82d597a-d33d-4297-b335-e184eedcdb96-prof.png',\n",
       " 'calories': 312.0,\n",
       " 'bmrCalories': 52.0,\n",
       " 'averageHR': 117.0,\n",
       " 'maxHR': 152.0,\n",
       " 'steps': 338,\n",
       " 'userRoles': ['SCOPE_GOLF_API_READ',\n",
       "  'SCOPE_ATP_READ',\n",
       "  'SCOPE_DIVE_API_WRITE',\n",
       "  'SCOPE_COMMUNITY_COURSE_ADMIN_READ',\n",
       "  'SCOPE_DIVE_API_READ',\n",
       "  'SCOPE_DI_OAUTH_2_CLIENT_READ',\n",
       "  'SCOPE_CONNECT_WRITE',\n",
       "  'SCOPE_COMMUNITY_COURSE_WRITE',\n",
       "  'SCOPE_MESSAGE_GENERATION_READ',\n",
       "  'SCOPE_DI_OAUTH_2_CLIENT_REVOCATION_ADMIN',\n",
       "  'SCOPE_CONNECT_WEB_TEMPLATE_RENDER',\n",
       "  'SCOPE_OMT_SUBSCRIPTION_ADMIN_READ',\n",
       "  'SCOPE_CONNECT_NON_SOCIAL_SHARED_READ',\n",
       "  'SCOPE_CONNECT_READ',\n",
       "  'SCOPE_DI_OAUTH_2_TOKEN_ADMIN',\n",
       "  'ROLE_CONNECTUSER',\n",
       "  'ROLE_FITNESS_USER',\n",
       "  'ROLE_WELLNESS_USER',\n",
       "  'ROLE_OUTDOOR_USER'],\n",
       " 'privacy': {'typeId': 3, 'typeKey': 'subscribers'},\n",
       " 'userPro': False,\n",
       " 'hasVideo': False,\n",
       " 'timeZoneId': 150,\n",
       " 'beginTimestamp': 1739031518000,\n",
       " 'sportTypeId': 62,\n",
       " 'aerobicTrainingEffect': 1.7000000476837158,\n",
       " 'anaerobicTrainingEffect': 1.7999999523162842,\n",
       " 'deviceId': 3455304286,\n",
       " 'summarizedExerciseSets': [{'category': 'SIT_UP',\n",
       "   'reps': 28,\n",
       "   'volume': 0,\n",
       "   'duration': 123956.00128173828,\n",
       "   'sets': 1},\n",
       "  {'category': 'UNKNOWN',\n",
       "   'reps': 42,\n",
       "   'volume': 0,\n",
       "   'duration': 660727.9946804047,\n",
       "   'sets': 10},\n",
       "  {'category': 'ROW',\n",
       "   'reps': 32,\n",
       "   'volume': 0,\n",
       "   'duration': 223306.99157714844,\n",
       "   'sets': 2},\n",
       "  {'category': 'SQUAT',\n",
       "   'reps': 21,\n",
       "   'volume': 0,\n",
       "   'duration': 58691.001892089844,\n",
       "   'sets': 1},\n",
       "  {'category': 'DEADLIFT',\n",
       "   'subCategory': 'BARBELL_DEADLIFT',\n",
       "   'reps': 46,\n",
       "   'volume': 0,\n",
       "   'duration': 259611.00006103516,\n",
       "   'sets': 3}],\n",
       " 'summarizedDiveInfo': {'summarizedDiveGases': []},\n",
       " 'manufacturer': 'GARMIN',\n",
       " 'lapCount': 1,\n",
       " 'waterEstimated': 411.0,\n",
       " 'totalSets': 17,\n",
       " 'activeSets': 17,\n",
       " 'totalReps': 169,\n",
       " 'trainingEffectLabel': 'ANAEROBIC_CAPACITY',\n",
       " 'activityTrainingLoad': 43.51884460449219,\n",
       " 'minActivityLapDuration': 2019.8800048828125,\n",
       " 'aerobicTrainingEffectMessage': 'RECOVERY_5',\n",
       " 'anaerobicTrainingEffectMessage': 'MINOR_ANAEROBIC_BENEFIT_15',\n",
       " 'splitSummaries': [{'noOfSplits': 17,\n",
       "   'duration': 2019.8800048828125,\n",
       "   'splitType': 'WORKOUT_ROUND',\n",
       "   'numClimbSends': 0,\n",
       "   'maxDistance': 0,\n",
       "   'distance': 0.0,\n",
       "   'averageSpeed': 0.0,\n",
       "   'numFalls': 0}],\n",
       " 'hasSplits': False,\n",
       " 'moderateIntensityMinutes': 16,\n",
       " 'vigorousIntensityMinutes': 16,\n",
       " 'differenceBodyBattery': -7,\n",
       " 'hasHeatMap': False,\n",
       " 'hrTimeInZone_1': 717.041,\n",
       " 'hrTimeInZone_2': 938.428,\n",
       " 'hrTimeInZone_3': 275.073,\n",
       " 'hrTimeInZone_4': 0.0,\n",
       " 'hrTimeInZone_5': 0.0,\n",
       " 'purposeful': False,\n",
       " 'manualActivity': False,\n",
       " 'pr': False,\n",
       " 'autoCalcCalories': False,\n",
       " 'elevationCorrected': False,\n",
       " 'atpActivity': False,\n",
       " 'favorite': False,\n",
       " 'decoDive': False,\n",
       " 'parent': False}"
      ]
     },
     "execution_count": 14,
     "metadata": {},
     "output_type": "execute_result"
    }
   ],
   "source": [
    "activities[0]"
   ]
  },
  {
   "cell_type": "code",
   "execution_count": 6,
   "metadata": {},
   "outputs": [
    {
     "name": "stderr",
     "output_type": "stream",
     "text": [
      "Deprecated: Alternative is to delete login tokens to logout.\n"
     ]
    },
    {
     "name": "stdout",
     "output_type": "stream",
     "text": [
      "Logged out successfully!\n"
     ]
    }
   ],
   "source": [
    "client.logout()\n",
    "print(\"Logged out successfully!\")"
   ]
  }
 ],
 "metadata": {
  "kernelspec": {
   "display_name": "gfit_env",
   "language": "python",
   "name": "python3"
  },
  "language_info": {
   "codemirror_mode": {
    "name": "ipython",
    "version": 3
   },
   "file_extension": ".py",
   "mimetype": "text/x-python",
   "name": "python",
   "nbconvert_exporter": "python",
   "pygments_lexer": "ipython3",
   "version": "3.12.6"
  }
 },
 "nbformat": 4,
 "nbformat_minor": 2
}
