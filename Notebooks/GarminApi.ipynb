{
 "cells": [
  {
   "cell_type": "code",
   "execution_count": 1,
   "metadata": {},
   "outputs": [],
   "source": [
    "from garminconnect import Garmin\n",
    "from garminconnect import (\n",
    "    GarminConnectConnectionError,\n",
    "    GarminConnectTooManyRequestsError,\n",
    "    GarminConnectAuthenticationError,\n",
    ")\n",
    "\n",
    "from datetime import datetime\n",
    "from dotenv import load_dotenv\n",
    "import os\n"
   ]
  },
  {
   "cell_type": "code",
   "execution_count": 2,
   "metadata": {},
   "outputs": [],
   "source": [
    "USERNAME = os.getenv(\"GARMIN_USERNAME\")\n",
    "PASSWORD = os.getenv(\"GARMIN_PASSWORD\")"
   ]
  },
  {
   "cell_type": "code",
   "execution_count": 4,
   "metadata": {},
   "outputs": [
    {
     "name": "stdout",
     "output_type": "stream",
     "text": [
      "None\n"
     ]
    }
   ],
   "source": [
    "print(USERNAME)"
   ]
  },
  {
   "cell_type": "code",
   "execution_count": 2,
   "metadata": {},
   "outputs": [
    {
     "name": "stdout",
     "output_type": "stream",
     "text": [
      "Logged in successfully!\n"
     ]
    }
   ],
   "source": [
    "try:\n",
    "    # Initialize Garmin client and login\n",
    "    client = Garmin(USERNAME, PASSWORD)\n",
    "    client.login()\n",
    "    print(\"Logged in successfully!\")\n",
    "\n",
    "except GarminConnectConnectionError as err:\n",
    "    print(\"Connection error:\", err)\n",
    "except GarminConnectAuthenticationError as err:\n",
    "    print(\"Authentication error:\", err)\n",
    "except GarminConnectTooManyRequestsError as err:\n",
    "    print(\"Too many requests error:\", err)\n",
    "except Exception as err:\n",
    "    print(\"An unexpected error occurred:\", err)\n"
   ]
  },
  {
   "cell_type": "code",
   "execution_count": 4,
   "metadata": {},
   "outputs": [
    {
     "name": "stdout",
     "output_type": "stream",
     "text": [
      "Heart Rate Data: {'userProfilePK': 118315956, 'calendarDate': '2025-02-07', 'startTimestampGMT': '2025-02-07T06:00:00.0', 'endTimestampGMT': '2025-02-07T15:53:00.0', 'startTimestampLocal': '2025-02-07T00:00:00.0', 'endTimestampLocal': '2025-02-08T00:00:00.0', 'maxHeartRate': 83, 'minHeartRate': 46, 'restingHeartRate': 48, 'lastSevenDaysAvgRestingHeartRate': 49, 'heartRateValueDescriptors': [{'key': 'timestamp', 'index': 0}, {'key': 'heartrate', 'index': 1}], 'heartRateValues': [[1738908000000, 74], [1738908120000, 74], [1738908240000, 68], [1738908360000, 60], [1738908480000, 63], [1738908600000, 61], [1738908720000, 61], [1738908840000, 63], [1738908960000, 60], [1738909080000, 62], [1738909200000, 59], [1738909320000, 60], [1738909440000, 63], [1738909560000, 61], [1738909680000, 62], [1738909800000, 63], [1738909920000, 61], [1738910040000, 60], [1738910160000, 60], [1738910280000, 60], [1738910400000, 60], [1738910520000, 60], [1738910640000, 60], [1738910760000, 60], [1738910880000, 60], [1738911000000, 60], [1738911120000, 61], [1738911240000, 61], [1738911360000, 61], [1738911480000, 62], [1738911600000, 61], [1738911720000, 61], [1738911840000, 62], [1738911960000, 62], [1738912080000, 61], [1738912200000, 61], [1738912320000, 61], [1738912440000, 61], [1738912560000, 63], [1738912680000, 61], [1738912800000, 61], [1738912920000, 62], [1738913040000, 54], [1738913160000, 54], [1738913280000, 54], [1738913400000, 53], [1738913520000, 53], [1738913640000, 55], [1738913760000, 54], [1738913880000, 55], [1738914000000, 57], [1738914120000, 57], [1738914240000, 55], [1738914360000, 54], [1738914480000, 56], [1738914600000, 57], [1738914720000, 56], [1738914840000, 56], [1738914960000, 55], [1738915080000, 56], [1738915200000, 57], [1738915320000, 56], [1738915440000, 60], [1738915560000, 56], [1738915680000, 57], [1738915800000, 57], [1738915920000, 57], [1738916040000, 57], [1738916160000, 57], [1738916280000, 57], [1738916400000, 57], [1738916520000, 57], [1738916640000, 58], [1738916760000, 57], [1738916880000, 57], [1738917000000, 57], [1738917120000, 57], [1738917240000, 56], [1738917360000, 57], [1738917480000, 59], [1738917600000, 55], [1738917720000, 53], [1738917840000, 51], [1738917960000, 52], [1738918080000, 52], [1738918200000, 54], [1738918320000, 51], [1738918440000, 50], [1738918560000, 49], [1738918680000, 52], [1738918800000, 50], [1738918920000, 50], [1738919040000, 51], [1738919160000, 52], [1738919280000, 52], [1738919400000, 54], [1738919520000, 52], [1738919640000, 53], [1738919760000, 52], [1738919880000, 52], [1738920000000, 53], [1738920120000, 55], [1738920240000, 57], [1738920360000, 55], [1738920480000, 56], [1738920600000, 55], [1738920720000, 58], [1738920840000, 58], [1738920960000, 56], [1738921080000, 55], [1738921200000, 53], [1738921320000, 54], [1738921440000, 56], [1738921560000, 55], [1738921680000, 50], [1738921800000, 51], [1738921920000, 52], [1738922040000, 49], [1738922160000, 50], [1738922280000, 51], [1738922400000, 57], [1738922520000, 48], [1738922640000, 47], [1738922760000, 54], [1738922880000, 48], [1738923000000, 47], [1738923120000, 47], [1738923240000, 46], [1738923360000, 47], [1738923480000, 47], [1738923600000, 48], [1738923720000, 48], [1738923840000, 48], [1738923960000, 48], [1738924080000, 48], [1738924200000, 49], [1738924320000, 48], [1738924440000, 50], [1738924560000, 49], [1738924680000, 57], [1738924800000, 56], [1738924920000, 51], [1738925040000, 50], [1738925160000, 52], [1738925280000, 51], [1738925400000, 52], [1738925520000, 53], [1738925640000, 53], [1738925760000, 54], [1738925880000, 53], [1738926000000, 51], [1738926120000, 53], [1738926240000, 51], [1738926360000, 54], [1738926480000, 46], [1738926600000, 55], [1738926720000, 65], [1738926840000, 47], [1738926960000, 46], [1738927080000, 46], [1738927200000, 46], [1738927320000, 46], [1738927440000, 47], [1738927560000, 48], [1738927680000, 47], [1738927800000, 56], [1738927920000, 47], [1738928040000, 49], [1738928160000, 48], [1738928280000, 47], [1738928400000, 54], [1738928520000, 57], [1738928640000, 48], [1738928760000, 48], [1738928880000, 48], [1738929000000, 49], [1738929120000, 52], [1738929240000, 47], [1738929360000, 47], [1738929480000, 49], [1738929600000, 48], [1738929720000, 49], [1738929840000, 48], [1738929960000, 55], [1738930080000, 48], [1738930200000, 50], [1738930320000, 51], [1738930440000, 50], [1738930560000, 53], [1738930680000, 54], [1738930800000, 56], [1738930920000, 50], [1738931040000, 56], [1738931160000, 52], [1738931280000, 51], [1738931400000, 51], [1738931520000, 53], [1738931640000, 53], [1738931760000, 56], [1738931880000, 60], [1738932000000, 56], [1738932120000, 53], [1738932240000, 52], [1738932360000, 51], [1738932480000, 52], [1738932600000, 51], [1738932720000, 53], [1738932840000, 52], [1738932960000, 51], [1738933080000, 52], [1738933200000, 51], [1738933320000, 48], [1738933440000, 49], [1738933560000, 49], [1738933680000, 51], [1738933800000, 49], [1738933920000, 50], [1738934040000, 49], [1738934160000, 51], [1738934280000, 51], [1738934400000, 51], [1738934520000, 51], [1738934640000, 51], [1738934760000, 52], [1738934880000, 52], [1738935000000, 50], [1738935120000, 51], [1738935240000, 49], [1738935360000, 52], [1738935480000, 47], [1738935600000, 51], [1738935720000, 49], [1738935840000, 49], [1738935960000, 49], [1738936080000, 51], [1738936200000, 51], [1738936320000, 53], [1738936440000, 47], [1738936560000, 50], [1738936680000, 51], [1738936800000, 50], [1738936920000, 51], [1738937040000, 51], [1738937160000, 57], [1738937280000, 53], [1738937400000, 53], [1738937520000, 52], [1738937640000, 51], [1738937760000, 67], [1738937880000, 83], [1738938000000, 76], [1738938120000, 52], [1738938240000, 53], [1738938360000, 52], [1738938480000, 51], [1738938600000, 51], [1738938720000, 53], [1738938840000, 51], [1738938960000, 54], [1738939080000, 53], [1738939200000, 54], [1738939320000, 52], [1738939440000, 54], [1738939560000, 58], [1738939680000, 52], [1738939800000, 53], [1738939920000, 49], [1738940040000, 57], [1738940160000, 54], [1738940280000, 59], [1738940400000, 59], [1738940520000, 47], [1738940640000, 48], [1738940760000, 47], [1738940880000, 49], [1738941000000, 48], [1738941120000, 49], [1738941240000, 49], [1738941360000, 54], [1738941480000, 64], [1738941600000, 63], [1738941720000, 60], [1738941840000, 54], [1738941960000, 55], [1738942080000, 54], [1738942200000, 62], [1738942320000, 57], [1738942440000, 56], [1738942560000, 54], [1738942680000, 60], [1738942800000, 62], [1738942920000, 55], [1738943040000, 56], [1738943160000, 58], [1738943280000, 60], [1738943400000, 63], [1738943520000, 73]]}\n"
     ]
    }
   ],
   "source": [
    "date = datetime.now().strftime(\"%Y-%m-%d\") \n",
    "heart_rate = client.get_heart_rates(date)\n",
    "print(\"Heart Rate Data:\", heart_rate)"
   ]
  },
  {
   "cell_type": "code",
   "execution_count": 7,
   "metadata": {},
   "outputs": [
    {
     "name": "stdout",
     "output_type": "stream",
     "text": [
      "{'activityId': 18209891475, 'activityName': 'Tampico Running', 'startTimeLocal': '2025-02-06 18:19:08', 'startTimeGMT': '2025-02-07 00:19:08', 'activityType': {'typeId': 1, 'typeKey': 'running', 'parentTypeId': 17, 'isHidden': False, 'trimmable': True, 'restricted': False}, 'eventType': {'typeId': 9, 'typeKey': 'uncategorized', 'sortOrder': 10}, 'distance': 4102.77978515625, 'duration': 1355.572998046875, 'elapsedDuration': 1798.72802734375, 'movingDuration': 1346.6220092773438, 'elevationGain': 21.0, 'elevationLoss': 23.0, 'averageSpeed': 3.0269999504089355, 'maxSpeed': 7.642000198364258, 'startLatitude': 22.27304513566196, 'startLongitude': -97.87907799705863, 'hasPolyline': True, 'hasImages': False, 'ownerId': 118315956, 'ownerDisplayName': '902ef603-a05a-4f22-8259-a6aecb9342d2', 'ownerFullName': 'Raul Maya', 'ownerProfileImageUrlSmall': 'https://s3.amazonaws.com/garmin-connect-prod/profile_images/b82d597a-d33d-4297-b335-e184eedcdb96-prth.png', 'ownerProfileImageUrlMedium': 'https://s3.amazonaws.com/garmin-connect-prod/profile_images/b82d597a-d33d-4297-b335-e184eedcdb96-prfr.png', 'ownerProfileImageUrlLarge': 'https://s3.amazonaws.com/garmin-connect-prod/profile_images/b82d597a-d33d-4297-b335-e184eedcdb96-prof.png', 'calories': 323.0, 'bmrCalories': 35.0, 'averageHR': 138.0, 'maxHR': 160.0, 'averageRunningCadenceInStepsPerMinute': 163.09375, 'maxRunningCadenceInStepsPerMinute': 243.0, 'steps': 3722, 'userRoles': ['SCOPE_GOLF_API_READ', 'SCOPE_ATP_READ', 'SCOPE_DIVE_API_WRITE', 'SCOPE_COMMUNITY_COURSE_ADMIN_READ', 'SCOPE_DIVE_API_READ', 'SCOPE_DI_OAUTH_2_CLIENT_READ', 'SCOPE_CONNECT_WRITE', 'SCOPE_COMMUNITY_COURSE_WRITE', 'SCOPE_MESSAGE_GENERATION_READ', 'SCOPE_DI_OAUTH_2_CLIENT_REVOCATION_ADMIN', 'SCOPE_CONNECT_WEB_TEMPLATE_RENDER', 'SCOPE_OMT_SUBSCRIPTION_ADMIN_READ', 'SCOPE_CONNECT_NON_SOCIAL_SHARED_READ', 'SCOPE_CONNECT_READ', 'SCOPE_DI_OAUTH_2_TOKEN_ADMIN', 'ROLE_CONNECTUSER', 'ROLE_FITNESS_USER', 'ROLE_WELLNESS_USER', 'ROLE_OUTDOOR_USER'], 'privacy': {'typeId': 3, 'typeKey': 'subscribers'}, 'userPro': False, 'hasVideo': False, 'timeZoneId': 150, 'beginTimestamp': 1738887548000, 'sportTypeId': 1, 'avgPower': 333.0, 'maxPower': 993.0, 'aerobicTrainingEffect': 2.5999999046325684, 'anaerobicTrainingEffect': 2.299999952316284, 'normPower': 343.0, 'avgVerticalOscillation': 8.640000152587891, 'avgGroundContactTime': 265.29998779296875, 'avgStrideLength': 105.10000000000001, 'vO2MaxValue': 57.0, 'avgVerticalRatio': 8.3100004196167, 'deviceId': 3455304286, 'minElevation': 2.5999999046325684, 'maxElevation': 16.799999237060547, 'maxDoubleCadence': 243.0, 'summarizedDiveInfo': {'summarizedDiveGases': []}, 'maxVerticalSpeed': 1.1999998092651367, 'manufacturer': 'GARMIN', 'locationName': 'Tampico', 'lapCount': 5, 'endLatitude': 22.272633332759142, 'endLongitude': -97.8842425905168, 'waterEstimated': 376.0, 'trainingEffectLabel': 'SPEED', 'activityTrainingLoad': 92.84413146972656, 'minActivityLapDuration': 33.465999603271484, 'aerobicTrainingEffectMessage': 'MAINTAINING_AEROBIC_FITNESS_1', 'anaerobicTrainingEffectMessage': 'MAINTAINING_FAST_FORCE_PRODUCTION_6', 'splitSummaries': [{'noOfSplits': 1, 'totalAscent': 21.0, 'duration': 1355.572998046875, 'splitType': 'INTERVAL_ACTIVE', 'numClimbSends': 0, 'maxElevationGain': 21.0, 'averageElevationGain': 7.0, 'maxDistance': 4102, 'distance': 4102.77978515625, 'averageSpeed': 3.0269999504089355, 'maxSpeed': 7.642000198364258, 'numFalls': 0, 'elevationLoss': 23.0}, {'noOfSplits': 5, 'totalAscent': 0.0, 'duration': 5.796000003814697, 'splitType': 'RWD_STAND', 'numClimbSends': 0, 'maxElevationGain': 0.0, 'averageElevationGain': 0.0, 'maxDistance': 6, 'distance': 9.329999923706055, 'averageSpeed': 1.6100000143051147, 'maxSpeed': 0.0, 'numFalls': 0, 'elevationLoss': 0.0}, {'noOfSplits': 6, 'totalAscent': 21.0, 'duration': 1336.22802734375, 'splitType': 'RWD_RUN', 'numClimbSends': 0, 'maxElevationGain': 7.0, 'averageElevationGain': 4.0, 'maxDistance': 1079, 'distance': 4060.14990234375, 'averageSpeed': 3.0390000343322754, 'maxSpeed': 7.642000198364258, 'numFalls': 0, 'elevationLoss': 23.0}, {'noOfSplits': 9, 'totalAscent': 0.0, 'duration': 13.529000282287598, 'splitType': 'RWD_WALK', 'numClimbSends': 0, 'maxElevationGain': 0.0, 'averageElevationGain': 0.0, 'maxDistance': 9, 'distance': 33.29999923706055, 'averageSpeed': 2.4609999656677246, 'maxSpeed': 2.1740000247955322, 'numFalls': 0, 'elevationLoss': 0.0}], 'hasSplits': True, 'moderateIntensityMinutes': 0, 'vigorousIntensityMinutes': 26, 'avgGradeAdjustedSpeed': 2.996000051498413, 'differenceBodyBattery': -6, 'hasHeatMap': False, 'fastestSplit_1000': 304.7170104980469, 'fastestSplit_1609': 510.5799865722656, 'hrTimeInZone_1': 79.974, 'hrTimeInZone_2': 405.21, 'hrTimeInZone_3': 370.687, 'hrTimeInZone_4': 458.169, 'hrTimeInZone_5': 0.0, 'powerTimeInZone_1': 833.946, 'powerTimeInZone_2': 288.172, 'powerTimeInZone_3': 52.001, 'powerTimeInZone_4': 13.741, 'powerTimeInZone_5': 33.001, 'purposeful': False, 'manualActivity': False, 'pr': False, 'autoCalcCalories': False, 'elevationCorrected': False, 'atpActivity': False, 'favorite': False, 'decoDive': False, 'parent': False}\n"
     ]
    }
   ],
   "source": [
    "activities = client.get_activities(0, 1)  # Fetch 10 recent activities\n",
    "for activity in activities:\n",
    "    print(activity)"
   ]
  },
  {
   "cell_type": "code",
   "execution_count": 6,
   "metadata": {},
   "outputs": [
    {
     "name": "stderr",
     "output_type": "stream",
     "text": [
      "Deprecated: Alternative is to delete login tokens to logout.\n"
     ]
    },
    {
     "name": "stdout",
     "output_type": "stream",
     "text": [
      "Logged out successfully!\n"
     ]
    }
   ],
   "source": [
    "client.logout()\n",
    "print(\"Logged out successfully!\")"
   ]
  }
 ],
 "metadata": {
  "kernelspec": {
   "display_name": "gfit_env",
   "language": "python",
   "name": "python3"
  },
  "language_info": {
   "codemirror_mode": {
    "name": "ipython",
    "version": 3
   },
   "file_extension": ".py",
   "mimetype": "text/x-python",
   "name": "python",
   "nbconvert_exporter": "python",
   "pygments_lexer": "ipython3",
   "version": "3.12.6"
  }
 },
 "nbformat": 4,
 "nbformat_minor": 2
}
