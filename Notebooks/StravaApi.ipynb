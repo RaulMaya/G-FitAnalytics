{
 "cells": [
  {
   "cell_type": "code",
   "execution_count": null,
   "metadata": {},
   "outputs": [],
   "source": [
    "from stravalib.client import Client\n",
    "from dotenv import load_dotenv\n",
    "import os\n"
   ]
  },
  {
   "cell_type": "code",
   "execution_count": null,
   "metadata": {},
   "outputs": [],
   "source": [
    "CLIENT_ID = os.getenv(\"STRAVA_CLIENT_ID\")\n",
    "CLIENT_SECRET = os.getenv(\"STRAVA_CLIENT_SECRET\")\n",
    "MY_CODE = os.getenv(\"code\")"
   ]
  },
  {
   "cell_type": "code",
   "execution_count": null,
   "metadata": {},
   "outputs": [],
   "source": [
    "client = Client()\n",
    "auth_url = client.authorization_url(\n",
    "    client_id=CLIENT_ID,\n",
    "    redirect_uri=\"http://localhost\",\n",
    "    scope=[\"activity:read_all\"]\n",
    ")\n",
    "print(f\"Go to this URL to authorize: {auth_url}\")\n"
   ]
  },
  {
   "cell_type": "code",
   "execution_count": null,
   "metadata": {},
   "outputs": [],
   "source": [
    "code=MY_CODE\n",
    "token_response = client.exchange_code_for_token(\n",
    "    client_id=CLIENT_ID,\n",
    "    client_secret=CLIENT_SECRET,\n",
    "    code=code\n",
    ")\n",
    "print(\"Access Token:\", token_response['access_token'])"
   ]
  },
  {
   "cell_type": "code",
   "execution_count": null,
   "metadata": {},
   "outputs": [],
   "source": [
    "athlete = client.get_athlete()\n",
    "print(f\"Hello, {athlete.firstname}{athlete.lastname}\")\n",
    "\n"
   ]
  },
  {
   "cell_type": "code",
   "execution_count": null,
   "metadata": {},
   "outputs": [],
   "source": [
    "activities = client.get_activities(limit=10)\n",
    "for activity in activities:\n",
    "    print(f\"Activity ID: {activity.id}, {activity.name}: {activity.distance} meters in {activity.moving_time}\")"
   ]
  },
  {
   "cell_type": "code",
   "execution_count": null,
   "metadata": {},
   "outputs": [],
   "source": [
    "activity_id = \"13560578268\"\n",
    "activity = client.get_activity(activity_id)\n",
    "print(f\"Name: {activity.name}\")\n",
    "print(f\"Distance: {activity.distance} meters\")\n",
    "print(f\"Average Speed: {activity.average_speed} m/s\")"
   ]
  },
  {
   "cell_type": "code",
   "execution_count": null,
   "metadata": {},
   "outputs": [],
   "source": []
  }
 ],
 "metadata": {
  "kernelspec": {
   "display_name": "gfit_env",
   "language": "python",
   "name": "python3"
  },
  "language_info": {
   "codemirror_mode": {
    "name": "ipython",
    "version": 3
   },
   "file_extension": ".py",
   "mimetype": "text/x-python",
   "name": "python",
   "nbconvert_exporter": "python",
   "pygments_lexer": "ipython3",
   "version": "3.12.6"
  }
 },
 "nbformat": 4,
 "nbformat_minor": 2
}
