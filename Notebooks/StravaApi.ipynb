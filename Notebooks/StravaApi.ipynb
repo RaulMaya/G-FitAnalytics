{
 "cells": [
  {
   "cell_type": "code",
   "execution_count": 6,
   "metadata": {},
   "outputs": [],
   "source": [
    "from stravalib.client import Client\n",
    "from dotenv import load_dotenv\n",
    "import os\n"
   ]
  },
  {
   "cell_type": "code",
   "execution_count": 7,
   "metadata": {},
   "outputs": [],
   "source": [
    "CLIENT_ID = os.getenv(\"STRAVA_CLIENT_ID\")\n",
    "CLIENT_SECRET = os.getenv(\"STRAVA_CLIENT_SECRET\")\n",
    "MY_CODE = os.getenv(\"code\")"
   ]
  },
  {
   "cell_type": "code",
   "execution_count": 4,
   "metadata": {},
   "outputs": [
    {
     "name": "stdout",
     "output_type": "stream",
     "text": [
      "Go to this URL to authorize: https://www.strava.com/oauth/authorize?client_id=147598&redirect_uri=http%3A%2F%2Flocalhost&approval_prompt=auto&scope=activity%3Aread_all&response_type=code\n"
     ]
    }
   ],
   "source": [
    "client = Client()\n",
    "auth_url = client.authorization_url(\n",
    "    client_id=CLIENT_ID,\n",
    "    redirect_uri=\"http://localhost\",\n",
    "    scope=[\"activity:read_all\"]\n",
    ")\n",
    "print(f\"Go to this URL to authorize: {auth_url}\")\n"
   ]
  },
  {
   "cell_type": "code",
   "execution_count": null,
   "metadata": {},
   "outputs": [],
   "source": [
    "code=MY_CODE\n",
    "token_response = client.exchange_code_for_token(\n",
    "    client_id=CLIENT_ID,\n",
    "    client_secret=CLIENT_SECRET,\n",
    "    code=code\n",
    ")\n",
    "print(\"Access Token:\", token_response['access_token'])"
   ]
  },
  {
   "cell_type": "code",
   "execution_count": 9,
   "metadata": {},
   "outputs": [
    {
     "name": "stdout",
     "output_type": "stream",
     "text": [
      "Hello, Raul  Maya\n"
     ]
    }
   ],
   "source": [
    "athlete = client.get_athlete()\n",
    "print(f\"Hello, {athlete.firstname}{athlete.lastname}\")\n",
    "\n"
   ]
  },
  {
   "cell_type": "code",
   "execution_count": 11,
   "metadata": {},
   "outputs": [
    {
     "name": "stdout",
     "output_type": "stream",
     "text": [
      "Activity ID: 13560578268, Evening Run: 4101.2 meters in 1355\n",
      "Activity ID: 13555858972, Morning Weight Training: 0.0 meters in 2512\n",
      "Activity ID: 13552036152, Afternoon Weight Training: 0.0 meters in 6490\n",
      "Activity ID: 13546876778, Morning Run: 4299.7 meters in 1364\n",
      "Activity ID: 13542619913, Evening Walk: 721.3 meters in 546\n",
      "Activity ID: 13542619592, Evening Run: 3512.8 meters in 1086\n",
      "Activity ID: 13537456774, Morning Run: 3747.4 meters in 1201\n",
      "Activity ID: 13533484416, Afternoon Weight Training: 0.0 meters in 9203\n",
      "Activity ID: 13523207986, Lunch Weight Training: 0.0 meters in 6700\n",
      "Activity ID: 13515509798, Evening Walk: 1297.9 meters in 929\n"
     ]
    }
   ],
   "source": [
    "activities = client.get_activities(limit=10)\n",
    "for activity in activities:\n",
    "    print(f\"Activity ID: {activity.id}, {activity.name}: {activity.distance} meters in {activity.moving_time}\")"
   ]
  },
  {
   "cell_type": "code",
   "execution_count": 13,
   "metadata": {},
   "outputs": [
    {
     "name": "stdout",
     "output_type": "stream",
     "text": [
      "Name: Evening Run\n",
      "Distance: 4101.2 meters\n",
      "Average Speed: 3.027 m/s\n"
     ]
    }
   ],
   "source": [
    "activity_id = \"13560578268\"\n",
    "activity = client.get_activity(activity_id)\n",
    "print(f\"Name: {activity.name}\")\n",
    "print(f\"Distance: {activity.distance} meters\")\n",
    "print(f\"Average Speed: {activity.average_speed} m/s\")"
   ]
  },
  {
   "cell_type": "code",
   "execution_count": null,
   "metadata": {},
   "outputs": [],
   "source": []
  }
 ],
 "metadata": {
  "kernelspec": {
   "display_name": "gfit_env",
   "language": "python",
   "name": "python3"
  },
  "language_info": {
   "codemirror_mode": {
    "name": "ipython",
    "version": 3
   },
   "file_extension": ".py",
   "mimetype": "text/x-python",
   "name": "python",
   "nbconvert_exporter": "python",
   "pygments_lexer": "ipython3",
   "version": "3.12.6"
  }
 },
 "nbformat": 4,
 "nbformat_minor": 2
}
